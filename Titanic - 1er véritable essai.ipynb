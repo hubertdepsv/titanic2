{
 "cells": [
  {
   "cell_type": "code",
   "execution_count": 1,
   "metadata": {},
   "outputs": [],
   "source": [
    "import pandas as pd\n",
    "import numpy as np\n",
    "import random as rnd\n",
    "\n",
    "import seaborn as sns\n",
    "import matplotlib as plt\n",
    "%matplotlib inline"
   ]
  },
  {
   "cell_type": "code",
   "execution_count": 2,
   "metadata": {
    "scrolled": false
   },
   "outputs": [
    {
     "name": "stdout",
     "output_type": "stream",
     "text": [
      "train_df's dimensions are (891, 12)\n",
      "test_df's dimensions are (418, 11)\n",
      "\n",
      "\n",
      "train_df's data types are :\n",
      "<class 'pandas.core.frame.DataFrame'>\n",
      "RangeIndex: 891 entries, 0 to 890\n",
      "Data columns (total 12 columns):\n",
      "PassengerId    891 non-null int64\n",
      "Survived       891 non-null int64\n",
      "Pclass         891 non-null int64\n",
      "Name           891 non-null object\n",
      "Sex            891 non-null object\n",
      "Age            714 non-null float64\n",
      "SibSp          891 non-null int64\n",
      "Parch          891 non-null int64\n",
      "Ticket         891 non-null object\n",
      "Fare           891 non-null float64\n",
      "Cabin          204 non-null object\n",
      "Embarked       889 non-null object\n",
      "dtypes: float64(2), int64(5), object(5)\n",
      "memory usage: 83.6+ KB\n",
      "None\n"
     ]
    }
   ],
   "source": [
    "# Importing data\n",
    "train_df = pd.read_csv('E:/Documents/Programmation/Python/Kaggle/Titanic/train.csv', sep=\",\")\n",
    "test_df = pd.read_csv('E:/Documents/Programmation/Python/Kaggle/Titanic/test.csv', sep=\",\")\n",
    "test_data = pd.read_csv('E:/Documents/Programmation/Python/Kaggle/Titanic/test.csv', sep=\",\")\n",
    "\n",
    "print(\"train_df's dimensions are {}\".format(train_df.shape))\n",
    "print(\"test_df's dimensions are {}\".format(test_df.shape))\n",
    "print('\\n')\n",
    "print(\"train_df's data types are :\")\n",
    "print(train_df.info())"
   ]
  },
  {
   "cell_type": "code",
   "execution_count": 3,
   "metadata": {},
   "outputs": [
    {
     "name": "stdout",
     "output_type": "stream",
     "text": [
      "Missing values : \n",
      "PassengerId      0\n",
      "Survived         0\n",
      "Pclass           0\n",
      "Name             0\n",
      "Sex              0\n",
      "Age            177\n",
      "SibSp            0\n",
      "Parch            0\n",
      "Ticket           0\n",
      "Fare             0\n",
      "Cabin          687\n",
      "Embarked         2\n",
      "dtype: int64\n"
     ]
    }
   ],
   "source": [
    "print(\"Missing values : \\n{}\".format(train_df.isnull().sum()))"
   ]
  },
  {
   "cell_type": "code",
   "execution_count": 4,
   "metadata": {},
   "outputs": [
    {
     "name": "stdout",
     "output_type": "stream",
     "text": [
      "<class 'pandas.core.frame.DataFrame'>\n",
      "RangeIndex: 418 entries, 0 to 417\n",
      "Data columns (total 11 columns):\n",
      "PassengerId    418 non-null int64\n",
      "Pclass         418 non-null int64\n",
      "Name           418 non-null object\n",
      "Sex            418 non-null object\n",
      "Age            332 non-null float64\n",
      "SibSp          418 non-null int64\n",
      "Parch          418 non-null int64\n",
      "Ticket         418 non-null object\n",
      "Fare           417 non-null float64\n",
      "Cabin          91 non-null object\n",
      "Embarked       418 non-null object\n",
      "dtypes: float64(2), int64(4), object(5)\n",
      "memory usage: 36.0+ KB\n"
     ]
    }
   ],
   "source": [
    "test_df.info()"
   ]
  },
  {
   "cell_type": "code",
   "execution_count": 5,
   "metadata": {},
   "outputs": [
    {
     "data": {
      "text/html": [
       "<div>\n",
       "<style scoped>\n",
       "    .dataframe tbody tr th:only-of-type {\n",
       "        vertical-align: middle;\n",
       "    }\n",
       "\n",
       "    .dataframe tbody tr th {\n",
       "        vertical-align: top;\n",
       "    }\n",
       "\n",
       "    .dataframe thead th {\n",
       "        text-align: right;\n",
       "    }\n",
       "</style>\n",
       "<table border=\"1\" class=\"dataframe\">\n",
       "  <thead>\n",
       "    <tr style=\"text-align: right;\">\n",
       "      <th></th>\n",
       "      <th>PassengerId</th>\n",
       "      <th>Survived</th>\n",
       "      <th>Pclass</th>\n",
       "      <th>Age</th>\n",
       "      <th>SibSp</th>\n",
       "      <th>Parch</th>\n",
       "      <th>Fare</th>\n",
       "    </tr>\n",
       "  </thead>\n",
       "  <tbody>\n",
       "    <tr>\n",
       "      <th>count</th>\n",
       "      <td>891.000000</td>\n",
       "      <td>891.000000</td>\n",
       "      <td>891.000000</td>\n",
       "      <td>714.000000</td>\n",
       "      <td>891.000000</td>\n",
       "      <td>891.000000</td>\n",
       "      <td>891.000000</td>\n",
       "    </tr>\n",
       "    <tr>\n",
       "      <th>mean</th>\n",
       "      <td>446.000000</td>\n",
       "      <td>0.383838</td>\n",
       "      <td>2.308642</td>\n",
       "      <td>29.699118</td>\n",
       "      <td>0.523008</td>\n",
       "      <td>0.381594</td>\n",
       "      <td>32.204208</td>\n",
       "    </tr>\n",
       "    <tr>\n",
       "      <th>std</th>\n",
       "      <td>257.353842</td>\n",
       "      <td>0.486592</td>\n",
       "      <td>0.836071</td>\n",
       "      <td>14.526497</td>\n",
       "      <td>1.102743</td>\n",
       "      <td>0.806057</td>\n",
       "      <td>49.693429</td>\n",
       "    </tr>\n",
       "    <tr>\n",
       "      <th>min</th>\n",
       "      <td>1.000000</td>\n",
       "      <td>0.000000</td>\n",
       "      <td>1.000000</td>\n",
       "      <td>0.420000</td>\n",
       "      <td>0.000000</td>\n",
       "      <td>0.000000</td>\n",
       "      <td>0.000000</td>\n",
       "    </tr>\n",
       "    <tr>\n",
       "      <th>25%</th>\n",
       "      <td>223.500000</td>\n",
       "      <td>0.000000</td>\n",
       "      <td>2.000000</td>\n",
       "      <td>20.125000</td>\n",
       "      <td>0.000000</td>\n",
       "      <td>0.000000</td>\n",
       "      <td>7.910400</td>\n",
       "    </tr>\n",
       "    <tr>\n",
       "      <th>50%</th>\n",
       "      <td>446.000000</td>\n",
       "      <td>0.000000</td>\n",
       "      <td>3.000000</td>\n",
       "      <td>28.000000</td>\n",
       "      <td>0.000000</td>\n",
       "      <td>0.000000</td>\n",
       "      <td>14.454200</td>\n",
       "    </tr>\n",
       "    <tr>\n",
       "      <th>75%</th>\n",
       "      <td>668.500000</td>\n",
       "      <td>1.000000</td>\n",
       "      <td>3.000000</td>\n",
       "      <td>38.000000</td>\n",
       "      <td>1.000000</td>\n",
       "      <td>0.000000</td>\n",
       "      <td>31.000000</td>\n",
       "    </tr>\n",
       "    <tr>\n",
       "      <th>max</th>\n",
       "      <td>891.000000</td>\n",
       "      <td>1.000000</td>\n",
       "      <td>3.000000</td>\n",
       "      <td>80.000000</td>\n",
       "      <td>8.000000</td>\n",
       "      <td>6.000000</td>\n",
       "      <td>512.329200</td>\n",
       "    </tr>\n",
       "  </tbody>\n",
       "</table>\n",
       "</div>"
      ],
      "text/plain": [
       "       PassengerId    Survived      Pclass         Age       SibSp  \\\n",
       "count   891.000000  891.000000  891.000000  714.000000  891.000000   \n",
       "mean    446.000000    0.383838    2.308642   29.699118    0.523008   \n",
       "std     257.353842    0.486592    0.836071   14.526497    1.102743   \n",
       "min       1.000000    0.000000    1.000000    0.420000    0.000000   \n",
       "25%     223.500000    0.000000    2.000000   20.125000    0.000000   \n",
       "50%     446.000000    0.000000    3.000000   28.000000    0.000000   \n",
       "75%     668.500000    1.000000    3.000000   38.000000    1.000000   \n",
       "max     891.000000    1.000000    3.000000   80.000000    8.000000   \n",
       "\n",
       "            Parch        Fare  \n",
       "count  891.000000  891.000000  \n",
       "mean     0.381594   32.204208  \n",
       "std      0.806057   49.693429  \n",
       "min      0.000000    0.000000  \n",
       "25%      0.000000    7.910400  \n",
       "50%      0.000000   14.454200  \n",
       "75%      0.000000   31.000000  \n",
       "max      6.000000  512.329200  "
      ]
     },
     "execution_count": 5,
     "metadata": {},
     "output_type": "execute_result"
    }
   ],
   "source": [
    "train_df.describe()"
   ]
  },
  {
   "cell_type": "code",
   "execution_count": 6,
   "metadata": {},
   "outputs": [
    {
     "data": {
      "text/html": [
       "<div>\n",
       "<style scoped>\n",
       "    .dataframe tbody tr th:only-of-type {\n",
       "        vertical-align: middle;\n",
       "    }\n",
       "\n",
       "    .dataframe tbody tr th {\n",
       "        vertical-align: top;\n",
       "    }\n",
       "\n",
       "    .dataframe thead th {\n",
       "        text-align: right;\n",
       "    }\n",
       "</style>\n",
       "<table border=\"1\" class=\"dataframe\">\n",
       "  <thead>\n",
       "    <tr style=\"text-align: right;\">\n",
       "      <th></th>\n",
       "      <th>Name</th>\n",
       "      <th>Sex</th>\n",
       "      <th>Ticket</th>\n",
       "      <th>Cabin</th>\n",
       "      <th>Embarked</th>\n",
       "    </tr>\n",
       "  </thead>\n",
       "  <tbody>\n",
       "    <tr>\n",
       "      <th>count</th>\n",
       "      <td>891</td>\n",
       "      <td>891</td>\n",
       "      <td>891</td>\n",
       "      <td>204</td>\n",
       "      <td>889</td>\n",
       "    </tr>\n",
       "    <tr>\n",
       "      <th>unique</th>\n",
       "      <td>891</td>\n",
       "      <td>2</td>\n",
       "      <td>681</td>\n",
       "      <td>147</td>\n",
       "      <td>3</td>\n",
       "    </tr>\n",
       "    <tr>\n",
       "      <th>top</th>\n",
       "      <td>Graham, Mr. George Edward</td>\n",
       "      <td>male</td>\n",
       "      <td>CA. 2343</td>\n",
       "      <td>C23 C25 C27</td>\n",
       "      <td>S</td>\n",
       "    </tr>\n",
       "    <tr>\n",
       "      <th>freq</th>\n",
       "      <td>1</td>\n",
       "      <td>577</td>\n",
       "      <td>7</td>\n",
       "      <td>4</td>\n",
       "      <td>644</td>\n",
       "    </tr>\n",
       "  </tbody>\n",
       "</table>\n",
       "</div>"
      ],
      "text/plain": [
       "                             Name   Sex    Ticket        Cabin Embarked\n",
       "count                         891   891       891          204      889\n",
       "unique                        891     2       681          147        3\n",
       "top     Graham, Mr. George Edward  male  CA. 2343  C23 C25 C27        S\n",
       "freq                            1   577         7            4      644"
      ]
     },
     "execution_count": 6,
     "metadata": {},
     "output_type": "execute_result"
    }
   ],
   "source": [
    "train_df.describe(include=['O'])"
   ]
  },
  {
   "cell_type": "code",
   "execution_count": 7,
   "metadata": {},
   "outputs": [
    {
     "name": "stdout",
     "output_type": "stream",
     "text": [
      "   Pclass  Survived  count\n",
      "0       1  0.629630  216.0\n",
      "1       2  0.472826  184.0\n",
      "2       3  0.242363  491.0\n"
     ]
    }
   ],
   "source": [
    "# Links between features and target\n",
    "\n",
    "# Pclass\n",
    "train_df['count']=train_df.groupby('Pclass')['Pclass'].transform('count')\n",
    "print(train_df[['Pclass','Survived','count']].groupby(['Pclass'], as_index=False).mean().sort_values(by='Survived', ascending=False))\n",
    "del train_df['count']"
   ]
  },
  {
   "cell_type": "code",
   "execution_count": 8,
   "metadata": {},
   "outputs": [
    {
     "name": "stdout",
     "output_type": "stream",
     "text": [
      "      Sex  Survived  count\n",
      "0  female  0.742038  314.0\n",
      "1    male  0.188908  577.0\n"
     ]
    }
   ],
   "source": [
    "# Sex\n",
    "\n",
    "train_df['count']=train_df.groupby('Sex')['Sex'].transform('count')\n",
    "print(train_df[['Sex','Survived','count']].groupby(['Sex'], as_index=False).mean().sort_values(by='Survived', ascending=False))\n",
    "del train_df['count']"
   ]
  },
  {
   "cell_type": "code",
   "execution_count": 9,
   "metadata": {},
   "outputs": [
    {
     "data": {
      "text/plain": [
       "15-30      326\n",
       "30-60      283\n",
       "Unknown    177\n",
       "0-15        83\n",
       "60 +        22\n",
       "Name: AgeBand, dtype: int64"
      ]
     },
     "execution_count": 9,
     "metadata": {},
     "output_type": "execute_result"
    }
   ],
   "source": [
    "# Age 1\n",
    "\n",
    "train_df['AgeBand']=pd.cut(train_df.Age, bins=[0,15,30,60,120], labels=['0-15','15-30','30-60','60 +'])\n",
    "train_df.AgeBand=train_df.AgeBand.replace(np.nan, 'Unknown', regex=True)\n",
    "train_df['AgeBand'].value_counts()"
   ]
  },
  {
   "cell_type": "code",
   "execution_count": 10,
   "metadata": {},
   "outputs": [
    {
     "name": "stdout",
     "output_type": "stream",
     "text": [
      "   AgeBand  Survived  count\n",
      "0     0-15  0.590361   83.0\n",
      "2    30-60  0.420495  283.0\n",
      "1    15-30  0.358896  326.0\n",
      "4  Unknown  0.293785  177.0\n",
      "3     60 +  0.227273   22.0\n"
     ]
    }
   ],
   "source": [
    "# Age 2\n",
    "\n",
    "train_df['count']=train_df.groupby('AgeBand')['AgeBand'].transform('count')\n",
    "print(train_df[['AgeBand','Survived','count']].groupby(['AgeBand'], as_index=False).mean().sort_values(by='Survived', ascending=False))\n",
    "del train_df['count']"
   ]
  },
  {
   "cell_type": "code",
   "execution_count": 11,
   "metadata": {},
   "outputs": [
    {
     "name": "stdout",
     "output_type": "stream",
     "text": [
      "   SibSp  Survived  count\n",
      "1      1  0.535885  209.0\n",
      "2      2  0.464286   28.0\n",
      "0      0  0.345395  608.0\n",
      "3      3  0.250000   16.0\n",
      "4      4  0.166667   18.0\n",
      "5      5  0.000000    5.0\n",
      "6      8  0.000000    7.0\n"
     ]
    }
   ],
   "source": [
    "# SibSp\n",
    "\n",
    "train_df['count']=train_df.groupby('SibSp')['SibSp'].transform('count')\n",
    "print(train_df[['SibSp','Survived','count']].groupby(['SibSp'], as_index=False).mean().sort_values(by='Survived', ascending=False))\n",
    "del train_df['count']"
   ]
  },
  {
   "cell_type": "code",
   "execution_count": 12,
   "metadata": {},
   "outputs": [
    {
     "name": "stdout",
     "output_type": "stream",
     "text": [
      "   Parch  Survived  count\n",
      "3      3  0.600000    5.0\n",
      "1      1  0.550847  118.0\n",
      "2      2  0.500000   80.0\n",
      "0      0  0.343658  678.0\n",
      "5      5  0.200000    5.0\n",
      "4      4  0.000000    4.0\n",
      "6      6  0.000000    1.0\n"
     ]
    }
   ],
   "source": [
    "# Parch\n",
    "\n",
    "train_df['count']=train_df.groupby('Parch')['Parch'].transform('count')\n",
    "print(train_df[['Parch','Survived','count']].groupby(['Parch'], as_index=False).mean().sort_values(by='Survived', ascending=False))\n",
    "del train_df['count']"
   ]
  },
  {
   "cell_type": "code",
   "execution_count": 13,
   "metadata": {},
   "outputs": [
    {
     "data": {
      "text/html": [
       "<div>\n",
       "<style scoped>\n",
       "    .dataframe tbody tr th:only-of-type {\n",
       "        vertical-align: middle;\n",
       "    }\n",
       "\n",
       "    .dataframe tbody tr th {\n",
       "        vertical-align: top;\n",
       "    }\n",
       "\n",
       "    .dataframe thead th {\n",
       "        text-align: right;\n",
       "    }\n",
       "</style>\n",
       "<table border=\"1\" class=\"dataframe\">\n",
       "  <thead>\n",
       "    <tr style=\"text-align: right;\">\n",
       "      <th></th>\n",
       "      <th>FareBand</th>\n",
       "      <th>Survived</th>\n",
       "    </tr>\n",
       "  </thead>\n",
       "  <tbody>\n",
       "    <tr>\n",
       "      <th>0</th>\n",
       "      <td>1</td>\n",
       "      <td>0.197309</td>\n",
       "    </tr>\n",
       "    <tr>\n",
       "      <th>1</th>\n",
       "      <td>2</td>\n",
       "      <td>0.303571</td>\n",
       "    </tr>\n",
       "    <tr>\n",
       "      <th>2</th>\n",
       "      <td>3</td>\n",
       "      <td>0.454955</td>\n",
       "    </tr>\n",
       "    <tr>\n",
       "      <th>3</th>\n",
       "      <td>4</td>\n",
       "      <td>0.581081</td>\n",
       "    </tr>\n",
       "  </tbody>\n",
       "</table>\n",
       "</div>"
      ],
      "text/plain": [
       "  FareBand  Survived\n",
       "0        1  0.197309\n",
       "1        2  0.303571\n",
       "2        3  0.454955\n",
       "3        4  0.581081"
      ]
     },
     "execution_count": 13,
     "metadata": {},
     "output_type": "execute_result"
    }
   ],
   "source": [
    "# Fare 1\n",
    "train_df['FareBand']=pd.qcut(train_df['Fare'], 4, labels=['1','2','3','4'])\n",
    "train_df[['FareBand', 'Survived']].groupby(['FareBand'], as_index=False).mean().sort_values(by='FareBand', ascending=True)"
   ]
  },
  {
   "cell_type": "code",
   "execution_count": 14,
   "metadata": {},
   "outputs": [
    {
     "name": "stdout",
     "output_type": "stream",
     "text": [
      "  FareBand  Survived  count\n",
      "0        1  0.197309  223.0\n",
      "1        2  0.303571  224.0\n",
      "2        3  0.454955  222.0\n",
      "3        4  0.581081  222.0\n"
     ]
    }
   ],
   "source": [
    "# Fare 2\n",
    "\n",
    "train_df['count']=train_df.groupby('FareBand')['FareBand'].transform('count')\n",
    "print(train_df[['FareBand','Survived','count']].groupby(['FareBand'], as_index=False).mean().sort_values(by='Survived', ascending=True))\n",
    "del train_df['count']"
   ]
  },
  {
   "cell_type": "code",
   "execution_count": 15,
   "metadata": {},
   "outputs": [
    {
     "name": "stdout",
     "output_type": "stream",
     "text": [
      "S\n",
      "  Embarked  Survived  count\n",
      "2        S  0.339009  646.0\n",
      "1        Q  0.389610   77.0\n",
      "0        C  0.553571  168.0\n"
     ]
    }
   ],
   "source": [
    "# Embarked\n",
    "\n",
    "freq_port = train_df['Embarked'].dropna().mode()[0]\n",
    "print(freq_port)\n",
    "\n",
    "train_df['Embarked']=train_df['Embarked'].fillna(freq_port)\n",
    "\n",
    "train_df['count']=train_df.groupby('Embarked')['Embarked'].transform('count')\n",
    "print(train_df[['Embarked','Survived','count']].groupby(['Embarked'], as_index=False).mean().sort_values(by='Survived', ascending=True))\n",
    "del train_df['count']"
   ]
  },
  {
   "cell_type": "code",
   "execution_count": 16,
   "metadata": {},
   "outputs": [
    {
     "ename": "AttributeError",
     "evalue": "'module' object has no attribute 'title'",
     "output_type": "error",
     "traceback": [
      "\u001b[1;31m\u001b[0m",
      "\u001b[1;31mAttributeError\u001b[0mTraceback (most recent call last)",
      "\u001b[1;32m<ipython-input-16-0e8c4f3686c2>\u001b[0m in \u001b[0;36m<module>\u001b[1;34m()\u001b[0m\n\u001b[0;32m      3\u001b[0m \u001b[0mget_ipython\u001b[0m\u001b[1;33m(\u001b[0m\u001b[1;33m)\u001b[0m\u001b[1;33m.\u001b[0m\u001b[0mmagic\u001b[0m\u001b[1;33m(\u001b[0m\u001b[1;34mu'matplotlib inline'\u001b[0m\u001b[1;33m)\u001b[0m\u001b[1;33m\u001b[0m\u001b[0m\n\u001b[0;32m      4\u001b[0m \u001b[0mpd\u001b[0m\u001b[1;33m.\u001b[0m\u001b[0mcrosstab\u001b[0m\u001b[1;33m(\u001b[0m\u001b[0mtrain_df\u001b[0m\u001b[1;33m.\u001b[0m\u001b[0mEmbarked\u001b[0m\u001b[1;33m,\u001b[0m \u001b[0mtrain_df\u001b[0m\u001b[1;33m.\u001b[0m\u001b[0mSurvived\u001b[0m\u001b[1;33m)\u001b[0m\u001b[1;33m.\u001b[0m\u001b[0mplot\u001b[0m\u001b[1;33m(\u001b[0m\u001b[0mkind\u001b[0m\u001b[1;33m=\u001b[0m\u001b[1;34m'bar'\u001b[0m\u001b[1;33m)\u001b[0m\u001b[1;33m\u001b[0m\u001b[0m\n\u001b[1;32m----> 5\u001b[1;33m \u001b[0mplt\u001b[0m\u001b[1;33m.\u001b[0m\u001b[0mtitle\u001b[0m\u001b[1;33m(\u001b[0m\u001b[1;34m'Survival frequency vs Embarking place'\u001b[0m\u001b[1;33m)\u001b[0m\u001b[1;33m\u001b[0m\u001b[0m\n\u001b[0m\u001b[0;32m      6\u001b[0m \u001b[0mplt\u001b[0m\u001b[1;33m.\u001b[0m\u001b[0mxlabel\u001b[0m\u001b[1;33m(\u001b[0m\u001b[1;34m'Embarked'\u001b[0m\u001b[1;33m)\u001b[0m\u001b[1;33m\u001b[0m\u001b[0m\n\u001b[0;32m      7\u001b[0m \u001b[0mplt\u001b[0m\u001b[1;33m.\u001b[0m\u001b[0mylabel\u001b[0m\u001b[1;33m(\u001b[0m\u001b[1;34m'Frequency'\u001b[0m\u001b[1;33m)\u001b[0m\u001b[1;33m\u001b[0m\u001b[0m\n",
      "\u001b[1;31mAttributeError\u001b[0m: 'module' object has no attribute 'title'"
     ]
    },
    {
     "data": {
      "image/png": "[encoded data removed]",
      "text/plain": [
       "<matplotlib.figure.Figure at 0xc3e92b0>"
      ]
     },
     "metadata": {},
     "output_type": "display_data"
    }
   ],
   "source": [
    "# Data visualization\n",
    "\n",
    "%matplotlib inline\n",
    "pd.crosstab(train_df.Embarked, train_df.Survived).plot(kind='bar')\n",
    "plt.title('Survival frequency vs Embarking place')\n",
    "plt.xlabel('Embarked')\n",
    "plt.ylabel('Frequency')\n",
    "plt.savefig('frequency_embarked')"
   ]
  },
  {
   "cell_type": "code",
   "execution_count": 17,
   "metadata": {},
   "outputs": [
    {
     "name": "stderr",
     "output_type": "stream",
     "text": [
      "C:\\ProgramData\\Anaconda2\\lib\\site-packages\\seaborn\\axisgrid.py:703: UserWarning: Using the pointplot function without specifying `order` is likely to produce an incorrect plot.\n",
      "  warnings.warn(warning)\n",
      "C:\\ProgramData\\Anaconda2\\lib\\site-packages\\seaborn\\axisgrid.py:708: UserWarning: Using the pointplot function without specifying `hue_order` is likely to produce an incorrect plot.\n",
      "  warnings.warn(warning)\n"
     ]
    },
    {
     "data": {
      "text/plain": [
       "<seaborn.axisgrid.FacetGrid at 0xcfc3860>"
      ]
     },
     "execution_count": 17,
     "metadata": {},
     "output_type": "execute_result"
    },
    {
     "data": {
      "image/png": "[encoded data removed]",
      "text/plain": [
       "<matplotlib.figure.Figure at 0xc71d908>"
      ]
     },
     "metadata": {},
     "output_type": "display_data"
    }
   ],
   "source": [
    "# Interaction visualization\n",
    "\n",
    "grid = sns.FacetGrid(train_df, row='Embarked', size=2.2, aspect=1.6)\n",
    "grid.map(sns.pointplot, 'Pclass', 'Survived', 'Sex', palette='deep')"
   ]
  },
  {
   "cell_type": "code",
   "execution_count": 18,
   "metadata": {},
   "outputs": [
    {
     "data": {
      "text/html": [
       "<div>\n",
       "<style scoped>\n",
       "    .dataframe tbody tr th:only-of-type {\n",
       "        vertical-align: middle;\n",
       "    }\n",
       "\n",
       "    .dataframe tbody tr th {\n",
       "        vertical-align: top;\n",
       "    }\n",
       "\n",
       "    .dataframe thead th {\n",
       "        text-align: right;\n",
       "    }\n",
       "</style>\n",
       "<table border=\"1\" class=\"dataframe\">\n",
       "  <thead>\n",
       "    <tr style=\"text-align: right;\">\n",
       "      <th>Sex</th>\n",
       "      <th>female</th>\n",
       "      <th>male</th>\n",
       "    </tr>\n",
       "    <tr>\n",
       "      <th>Title</th>\n",
       "      <th></th>\n",
       "      <th></th>\n",
       "    </tr>\n",
       "  </thead>\n",
       "  <tbody>\n",
       "    <tr>\n",
       "      <th>Capt</th>\n",
       "      <td>0</td>\n",
       "      <td>1</td>\n",
       "    </tr>\n",
       "    <tr>\n",
       "      <th>Col</th>\n",
       "      <td>0</td>\n",
       "      <td>2</td>\n",
       "    </tr>\n",
       "    <tr>\n",
       "      <th>Countess</th>\n",
       "      <td>1</td>\n",
       "      <td>0</td>\n",
       "    </tr>\n",
       "    <tr>\n",
       "      <th>Don</th>\n",
       "      <td>0</td>\n",
       "      <td>1</td>\n",
       "    </tr>\n",
       "    <tr>\n",
       "      <th>Dr</th>\n",
       "      <td>1</td>\n",
       "      <td>6</td>\n",
       "    </tr>\n",
       "    <tr>\n",
       "      <th>Jonkheer</th>\n",
       "      <td>0</td>\n",
       "      <td>1</td>\n",
       "    </tr>\n",
       "    <tr>\n",
       "      <th>Lady</th>\n",
       "      <td>1</td>\n",
       "      <td>0</td>\n",
       "    </tr>\n",
       "    <tr>\n",
       "      <th>Major</th>\n",
       "      <td>0</td>\n",
       "      <td>2</td>\n",
       "    </tr>\n",
       "    <tr>\n",
       "      <th>Master</th>\n",
       "      <td>0</td>\n",
       "      <td>40</td>\n",
       "    </tr>\n",
       "    <tr>\n",
       "      <th>Miss</th>\n",
       "      <td>182</td>\n",
       "      <td>0</td>\n",
       "    </tr>\n",
       "    <tr>\n",
       "      <th>Mlle</th>\n",
       "      <td>2</td>\n",
       "      <td>0</td>\n",
       "    </tr>\n",
       "    <tr>\n",
       "      <th>Mme</th>\n",
       "      <td>1</td>\n",
       "      <td>0</td>\n",
       "    </tr>\n",
       "    <tr>\n",
       "      <th>Mr</th>\n",
       "      <td>0</td>\n",
       "      <td>517</td>\n",
       "    </tr>\n",
       "    <tr>\n",
       "      <th>Mrs</th>\n",
       "      <td>125</td>\n",
       "      <td>0</td>\n",
       "    </tr>\n",
       "    <tr>\n",
       "      <th>Ms</th>\n",
       "      <td>1</td>\n",
       "      <td>0</td>\n",
       "    </tr>\n",
       "    <tr>\n",
       "      <th>Rev</th>\n",
       "      <td>0</td>\n",
       "      <td>6</td>\n",
       "    </tr>\n",
       "    <tr>\n",
       "      <th>Sir</th>\n",
       "      <td>0</td>\n",
       "      <td>1</td>\n",
       "    </tr>\n",
       "  </tbody>\n",
       "</table>\n",
       "</div>"
      ],
      "text/plain": [
       "Sex       female  male\n",
       "Title                 \n",
       "Capt           0     1\n",
       "Col            0     2\n",
       "Countess       1     0\n",
       "Don            0     1\n",
       "Dr             1     6\n",
       "Jonkheer       0     1\n",
       "Lady           1     0\n",
       "Major          0     2\n",
       "Master         0    40\n",
       "Miss         182     0\n",
       "Mlle           2     0\n",
       "Mme            1     0\n",
       "Mr             0   517\n",
       "Mrs          125     0\n",
       "Ms             1     0\n",
       "Rev            0     6\n",
       "Sir            0     1"
      ]
     },
     "execution_count": 18,
     "metadata": {},
     "output_type": "execute_result"
    }
   ],
   "source": [
    "# Preparing the data\n",
    "\n",
    "train_df['Title']=train_df.Name.str.extract(' ([A-Za-z]+)\\.', expand=False)\n",
    "pd.crosstab(train_df['Title'], train_df['Sex'])"
   ]
  },
  {
   "cell_type": "code",
   "execution_count": 19,
   "metadata": {},
   "outputs": [
    {
     "name": "stdout",
     "output_type": "stream",
     "text": [
      "    Title  Survived  count\n",
      "2      Mr  0.156673  517.0\n",
      "4    Rare  0.347826   23.0\n",
      "0  Master  0.575000   40.0\n",
      "1    Miss  0.702703  185.0\n",
      "3     Mrs  0.793651  126.0\n"
     ]
    }
   ],
   "source": [
    "train_df['Title']=train_df['Title'].replace(['Lady','Countess','Capt','Col',\\\n",
    "'Don','Dr','Major','Rev','Sir','Jonkheer','Dona'],'Rare')\n",
    "\n",
    "train_df['Title']=train_df['Title'].replace('Mlle', 'Miss')\n",
    "train_df['Title']=train_df['Title'].replace('Ms', 'Miss')\n",
    "train_df['Title']=train_df['Title'].replace('Mme', 'Mrs')\n",
    "\n",
    "train_df['count']=train_df.groupby('Title')['Title'].transform('count')\n",
    "print(train_df[['Title','Survived','count']].groupby(['Title'],as_index=False).mean().sort_values(by='Survived',ascending=True))\n",
    "del train_df['count']"
   ]
  },
  {
   "cell_type": "code",
   "execution_count": 20,
   "metadata": {},
   "outputs": [
    {
     "name": "stdout",
     "output_type": "stream",
     "text": [
      "   women  Survived  count\n",
      "0      0  0.188908  577.0\n",
      "1      1  0.742038  314.0\n"
     ]
    }
   ],
   "source": [
    "# New variables\n",
    "train_df['women']=train_df['Sex'].map({'female':1, 'male':0})\n",
    "\n",
    "train_df['count']=train_df.groupby('women')['women'].transform('count')\n",
    "print(train_df[['women','Survived','count']].groupby(['women'],as_index=False).mean().sort_values(by='Survived',ascending=True))\n",
    "del train_df['count']"
   ]
  },
  {
   "cell_type": "code",
   "execution_count": 21,
   "metadata": {},
   "outputs": [
    {
     "name": "stdout",
     "output_type": "stream",
     "text": [
      "   FamilySize  Survived  count\n",
      "7           8  0.000000    6.0\n",
      "8          11  0.000000    7.0\n",
      "5           6  0.136364   22.0\n",
      "4           5  0.200000   15.0\n",
      "0           1  0.303538  537.0\n",
      "6           7  0.333333   12.0\n",
      "1           2  0.552795  161.0\n",
      "2           3  0.578431  102.0\n",
      "3           4  0.724138   29.0\n"
     ]
    }
   ],
   "source": [
    "train_df['FamilySize']=train_df['SibSp']+train_df['Parch']+1\n",
    "\n",
    "train_df['count']=train_df.groupby('FamilySize')['FamilySize'].transform('count')\n",
    "print(train_df[['FamilySize','Survived','count']].groupby(['FamilySize'],as_index=False).mean().sort_values(by='Survived',ascending=True))\n",
    "del train_df['count']"
   ]
  },
  {
   "cell_type": "code",
   "execution_count": 22,
   "metadata": {},
   "outputs": [
    {
     "name": "stdout",
     "output_type": "stream",
     "text": [
      "   IsAlone  Survived  count\n",
      "1        1  0.303538  537.0\n",
      "0        0  0.505650  354.0\n"
     ]
    }
   ],
   "source": [
    "train_df['IsAlone']=0\n",
    "train_df.loc[train_df['FamilySize']==1,'IsAlone']=1\n",
    "\n",
    "train_df['count']=train_df.groupby('IsAlone')['IsAlone'].transform('count')\n",
    "print(train_df[['IsAlone','Survived','count']].groupby(['IsAlone'],as_index=False).mean().sort_values(by='Survived',ascending=True))\n",
    "del train_df['count']"
   ]
  },
  {
   "cell_type": "code",
   "execution_count": 23,
   "metadata": {},
   "outputs": [],
   "source": [
    "# Deleting useless columns\n",
    "train_df = train_df.drop(['Ticket','Cabin','Age','Name','PassengerId','Sex'],axis=1)"
   ]
  },
  {
   "cell_type": "code",
   "execution_count": 24,
   "metadata": {},
   "outputs": [],
   "source": [
    "# Dichotomising categorical variables\n",
    "train_df=pd.concat([train_df, pd.get_dummies(train_df['Title'], prefix='Title')],axis=1)\n",
    "train_df=pd.concat([train_df, pd.get_dummies(train_df['AgeBand'], prefix='AgeBand')],axis=1)\n",
    "train_df=pd.concat([train_df, pd.get_dummies(train_df['FareBand'], prefix='FareBand')],axis=1)\n",
    "train_df=pd.concat([train_df, pd.get_dummies(train_df['Embarked'], prefix='Embarked')],axis=1)\n",
    "\n",
    "train_df.Pclass = train_df['Pclass'].astype('category')\n",
    "train_df=pd.concat([train_df, pd.get_dummies(train_df['Pclass'], prefix='Pclass')],axis=1)\n",
    "\n",
    "del train_df['Title']\n",
    "del train_df['Pclass']\n",
    "del train_df['FareBand']\n",
    "del train_df['Fare']\n",
    "del train_df['AgeBand']\n",
    "del train_df['Embarked']"
   ]
  },
  {
   "cell_type": "code",
   "execution_count": 25,
   "metadata": {},
   "outputs": [
    {
     "data": {
      "text/plain": [
       "0    549\n",
       "1    342\n",
       "Name: Survived, dtype: int64"
      ]
     },
     "execution_count": 25,
     "metadata": {},
     "output_type": "execute_result"
    }
   ],
   "source": [
    "train_df['Survived'].value_counts()"
   ]
  },
  {
   "cell_type": "code",
   "execution_count": null,
   "metadata": {},
   "outputs": [],
   "source": []
  },
  {
   "cell_type": "code",
   "execution_count": 26,
   "metadata": {},
   "outputs": [],
   "source": [
    "# Same data preparation for test data\n",
    "\n",
    "test_df['AgeBand']=pd.cut(test_df.Age, bins=[0,15,30,60,120], labels=['0-15','15-30','30-60','60 +'])\n",
    "test_df.AgeBand=test_df.AgeBand.replace(np.nan, 'Unknown', regex=True)\n",
    "test_df['AgeBand'].value_counts()\n",
    "\n",
    "test_df['FareBand']=pd.qcut(test_df['Fare'], 4, labels=['1','2','3','4'])\n",
    "\n",
    "freq_port = test_df['Embarked'].dropna().mode()[0]\n",
    "\n",
    "test_df['Embarked']=test_df['Embarked'].fillna(freq_port)\n",
    "\n",
    "test_df['Title']=test_df.Name.str.extract(' ([A-Za-z]+)\\.', expand=False)\n",
    "pd.crosstab(test_df['Title'], test_df['Sex'])\n",
    "\n",
    "test_df['Title']=test_df['Title'].replace(['Lady','Countess','Capt','Col',\\\n",
    "'Don','Dr','Major','Rev','Sir','Jonkheer','Dona'],'Rare')\n",
    "\n",
    "test_df['Title']=test_df['Title'].replace('Mlle', 'Miss')\n",
    "test_df['Title']=test_df['Title'].replace('Ms', 'Miss')\n",
    "test_df['Title']=test_df['Title'].replace('Mme', 'Mrs')\n",
    "\n",
    "# New variables\n",
    "test_df['women']=test_df['Sex'].map({'female':1, 'male':0})\n",
    "test_df['FamilySize']=test_df['SibSp']+test_df['Parch']+1\n",
    "test_df['IsAlone']=0\n",
    "test_df.loc[test_df['FamilySize']==1,'IsAlone']=1\n",
    "\n",
    "# Deleting useless columns\n",
    "test_df = test_df.drop(['Ticket','Cabin','Age','Name','PassengerId','Sex'],axis=1)\n",
    "\n",
    "test_df=pd.concat([test_df, pd.get_dummies(test_df['Title'], prefix='Title')],axis=1)\n",
    "test_df=pd.concat([test_df, pd.get_dummies(test_df['AgeBand'], prefix='AgeBand')],axis=1)\n",
    "test_df=pd.concat([test_df, pd.get_dummies(test_df['FareBand'], prefix='FareBand')],axis=1)\n",
    "test_df=pd.concat([test_df, pd.get_dummies(test_df['Embarked'], prefix='Embarked')],axis=1)\n",
    "\n",
    "test_df.Pclass = test_df['Pclass'].astype('category')\n",
    "test_df=pd.concat([test_df, pd.get_dummies(test_df['Pclass'], prefix='Pclass')],axis=1)\n",
    "\n",
    "del test_df['Title']\n",
    "del test_df['Pclass']\n",
    "del test_df['FareBand']\n",
    "del test_df['Fare']\n",
    "del test_df['AgeBand']\n",
    "del test_df['Embarked']"
   ]
  },
  {
   "cell_type": "code",
   "execution_count": 27,
   "metadata": {},
   "outputs": [
    {
     "data": {
      "text/html": [
       "<div>\n",
       "<style scoped>\n",
       "    .dataframe tbody tr th:only-of-type {\n",
       "        vertical-align: middle;\n",
       "    }\n",
       "\n",
       "    .dataframe tbody tr th {\n",
       "        vertical-align: top;\n",
       "    }\n",
       "\n",
       "    .dataframe thead th {\n",
       "        text-align: right;\n",
       "    }\n",
       "</style>\n",
       "<table border=\"1\" class=\"dataframe\">\n",
       "  <thead>\n",
       "    <tr style=\"text-align: right;\">\n",
       "      <th></th>\n",
       "      <th>SibSp</th>\n",
       "      <th>Parch</th>\n",
       "      <th>women</th>\n",
       "      <th>FamilySize</th>\n",
       "      <th>IsAlone</th>\n",
       "      <th>Title_Master</th>\n",
       "      <th>Title_Miss</th>\n",
       "      <th>Title_Mr</th>\n",
       "      <th>Title_Mrs</th>\n",
       "      <th>Title_Rare</th>\n",
       "      <th>...</th>\n",
       "      <th>FareBand_1</th>\n",
       "      <th>FareBand_2</th>\n",
       "      <th>FareBand_3</th>\n",
       "      <th>FareBand_4</th>\n",
       "      <th>Embarked_C</th>\n",
       "      <th>Embarked_Q</th>\n",
       "      <th>Embarked_S</th>\n",
       "      <th>Pclass_1</th>\n",
       "      <th>Pclass_2</th>\n",
       "      <th>Pclass_3</th>\n",
       "    </tr>\n",
       "  </thead>\n",
       "  <tbody>\n",
       "    <tr>\n",
       "      <th>0</th>\n",
       "      <td>0</td>\n",
       "      <td>0</td>\n",
       "      <td>0</td>\n",
       "      <td>1</td>\n",
       "      <td>1</td>\n",
       "      <td>0</td>\n",
       "      <td>0</td>\n",
       "      <td>1</td>\n",
       "      <td>0</td>\n",
       "      <td>0</td>\n",
       "      <td>...</td>\n",
       "      <td>1</td>\n",
       "      <td>0</td>\n",
       "      <td>0</td>\n",
       "      <td>0</td>\n",
       "      <td>0</td>\n",
       "      <td>1</td>\n",
       "      <td>0</td>\n",
       "      <td>0</td>\n",
       "      <td>0</td>\n",
       "      <td>1</td>\n",
       "    </tr>\n",
       "    <tr>\n",
       "      <th>1</th>\n",
       "      <td>1</td>\n",
       "      <td>0</td>\n",
       "      <td>1</td>\n",
       "      <td>2</td>\n",
       "      <td>0</td>\n",
       "      <td>0</td>\n",
       "      <td>0</td>\n",
       "      <td>0</td>\n",
       "      <td>1</td>\n",
       "      <td>0</td>\n",
       "      <td>...</td>\n",
       "      <td>1</td>\n",
       "      <td>0</td>\n",
       "      <td>0</td>\n",
       "      <td>0</td>\n",
       "      <td>0</td>\n",
       "      <td>0</td>\n",
       "      <td>1</td>\n",
       "      <td>0</td>\n",
       "      <td>0</td>\n",
       "      <td>1</td>\n",
       "    </tr>\n",
       "    <tr>\n",
       "      <th>2</th>\n",
       "      <td>0</td>\n",
       "      <td>0</td>\n",
       "      <td>0</td>\n",
       "      <td>1</td>\n",
       "      <td>1</td>\n",
       "      <td>0</td>\n",
       "      <td>0</td>\n",
       "      <td>1</td>\n",
       "      <td>0</td>\n",
       "      <td>0</td>\n",
       "      <td>...</td>\n",
       "      <td>0</td>\n",
       "      <td>1</td>\n",
       "      <td>0</td>\n",
       "      <td>0</td>\n",
       "      <td>0</td>\n",
       "      <td>1</td>\n",
       "      <td>0</td>\n",
       "      <td>0</td>\n",
       "      <td>1</td>\n",
       "      <td>0</td>\n",
       "    </tr>\n",
       "    <tr>\n",
       "      <th>3</th>\n",
       "      <td>0</td>\n",
       "      <td>0</td>\n",
       "      <td>0</td>\n",
       "      <td>1</td>\n",
       "      <td>1</td>\n",
       "      <td>0</td>\n",
       "      <td>0</td>\n",
       "      <td>1</td>\n",
       "      <td>0</td>\n",
       "      <td>0</td>\n",
       "      <td>...</td>\n",
       "      <td>0</td>\n",
       "      <td>1</td>\n",
       "      <td>0</td>\n",
       "      <td>0</td>\n",
       "      <td>0</td>\n",
       "      <td>0</td>\n",
       "      <td>1</td>\n",
       "      <td>0</td>\n",
       "      <td>0</td>\n",
       "      <td>1</td>\n",
       "    </tr>\n",
       "    <tr>\n",
       "      <th>4</th>\n",
       "      <td>1</td>\n",
       "      <td>1</td>\n",
       "      <td>1</td>\n",
       "      <td>3</td>\n",
       "      <td>0</td>\n",
       "      <td>0</td>\n",
       "      <td>0</td>\n",
       "      <td>0</td>\n",
       "      <td>1</td>\n",
       "      <td>0</td>\n",
       "      <td>...</td>\n",
       "      <td>0</td>\n",
       "      <td>1</td>\n",
       "      <td>0</td>\n",
       "      <td>0</td>\n",
       "      <td>0</td>\n",
       "      <td>0</td>\n",
       "      <td>1</td>\n",
       "      <td>0</td>\n",
       "      <td>0</td>\n",
       "      <td>1</td>\n",
       "    </tr>\n",
       "  </tbody>\n",
       "</table>\n",
       "<p>5 rows × 25 columns</p>\n",
       "</div>"
      ],
      "text/plain": [
       "   SibSp  Parch  women  FamilySize  IsAlone  Title_Master  Title_Miss  \\\n",
       "0      0      0      0           1        1             0           0   \n",
       "1      1      0      1           2        0             0           0   \n",
       "2      0      0      0           1        1             0           0   \n",
       "3      0      0      0           1        1             0           0   \n",
       "4      1      1      1           3        0             0           0   \n",
       "\n",
       "   Title_Mr  Title_Mrs  Title_Rare    ...     FareBand_1  FareBand_2  \\\n",
       "0         1          0           0    ...              1           0   \n",
       "1         0          1           0    ...              1           0   \n",
       "2         1          0           0    ...              0           1   \n",
       "3         1          0           0    ...              0           1   \n",
       "4         0          1           0    ...              0           1   \n",
       "\n",
       "   FareBand_3  FareBand_4  Embarked_C  Embarked_Q  Embarked_S  Pclass_1  \\\n",
       "0           0           0           0           1           0         0   \n",
       "1           0           0           0           0           1         0   \n",
       "2           0           0           0           1           0         0   \n",
       "3           0           0           0           0           1         0   \n",
       "4           0           0           0           0           1         0   \n",
       "\n",
       "   Pclass_2  Pclass_3  \n",
       "0         0         1  \n",
       "1         0         1  \n",
       "2         1         0  \n",
       "3         0         1  \n",
       "4         0         1  \n",
       "\n",
       "[5 rows x 25 columns]"
      ]
     },
     "execution_count": 27,
     "metadata": {},
     "output_type": "execute_result"
    }
   ],
   "source": [
    "test_df.head()"
   ]
  },
  {
   "cell_type": "code",
   "execution_count": 28,
   "metadata": {},
   "outputs": [
    {
     "data": {
      "text/plain": [
       "Index([u'Survived', u'SibSp', u'Parch', u'women', u'FamilySize', u'IsAlone',\n",
       "       u'Title_Master', u'Title_Miss', u'Title_Mr', u'Title_Mrs',\n",
       "       u'Title_Rare', u'AgeBand_0-15', u'AgeBand_15-30', u'AgeBand_30-60',\n",
       "       u'AgeBand_60 +', u'AgeBand_Unknown', u'FareBand_1', u'FareBand_2',\n",
       "       u'FareBand_3', u'FareBand_4', u'Embarked_C', u'Embarked_Q',\n",
       "       u'Embarked_S', u'Pclass_1', u'Pclass_2', u'Pclass_3'],\n",
       "      dtype='object')"
      ]
     },
     "execution_count": 28,
     "metadata": {},
     "output_type": "execute_result"
    }
   ],
   "source": [
    "train_df.columns"
   ]
  },
  {
   "cell_type": "code",
   "execution_count": 29,
   "metadata": {},
   "outputs": [],
   "source": [
    "# Preparing the data\n",
    "\n",
    "X_train = train_df[['SibSp','Parch','women','FamilySize',\\\n",
    "                   'IsAlone','Title_Master','Title_Miss','Title_Mr','Title_Mrs','Title_Rare','AgeBand_0-15',\\\n",
    "                   'AgeBand_15-30','AgeBand_30-60','AgeBand_60 +','AgeBand_Unknown','FareBand_1','FareBand_2',\\\n",
    "                  'FareBand_3','FareBand_4','Embarked_C','Embarked_Q','Embarked_S','Pclass_1','Pclass_2','Pclass_3']]\n",
    "\n",
    "Y_train = train_df[['Survived']]"
   ]
  },
  {
   "cell_type": "code",
   "execution_count": 30,
   "metadata": {},
   "outputs": [
    {
     "name": "stdout",
     "output_type": "stream",
     "text": [
      "Your submission was successfully saved!\n"
     ]
    }
   ],
   "source": [
    "# DecisionTree model\n",
    "\n",
    "from sklearn import tree\n",
    "\n",
    "decision_tree = tree.DecisionTreeClassifier(max_depth=5,min_samples_leaf=10)\n",
    "decision_tree.fit(X_train, Y_train)\n",
    "\n",
    "Y_pred = decision_tree.predict(test_df)\n",
    "\n",
    "output = pd.DataFrame({'PassengerId': test_data.PassengerId, 'Survived': Y_pred})\n",
    "output.to_csv('E:/Documents/Programmation/Python/Kaggle/Titanic/my_submission.csv', index=False)\n",
    "print(\"Your submission was successfully saved!\")"
   ]
  }
 ],
 "metadata": {
  "kernelspec": {
   "display_name": "Python 2",
   "language": "python",
   "name": "python2"
  },
  "language_info": {
   "codemirror_mode": {
    "name": "ipython",
    "version": 2
   },
   "file_extension": ".py",
   "mimetype": "text/x-python",
   "name": "python",
   "nbconvert_exporter": "python",
   "pygments_lexer": "ipython2",
   "version": "2.7.14"
  }
 },
 "nbformat": 4,
 "nbformat_minor": 2
}
